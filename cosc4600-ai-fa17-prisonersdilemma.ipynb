{
 "cells": [
  {
   "cell_type": "code",
   "execution_count": 1,
   "metadata": {
    "collapsed": true
   },
   "outputs": [],
   "source": [
    "#define a player class that intelligently implements the famous prisoners dilemma problem\n",
    "# define a game class that will define the structure of the problem and calculate the \n",
    "# strategies and nash equilibria"
   ]
  },
  {
   "cell_type": "code",
   "execution_count": 4,
   "metadata": {
    "collapsed": false
   },
   "outputs": [],
   "source": [
    "# defining player class\n",
    "class player:\n",
    "    \n",
    "    def __init__(self,name,order,strategySpace,payoffs,choice,suboptimal,strategies,state,gameplay):\n",
    "        self.name = name\n",
    "        self.order = order\n",
    "        self.strategySpace = strategySpace\n",
    "        self.payoffs = payoffs\n",
    "        self.choice = choice\n",
    "        self.suboptimal = suboptimal\n",
    "        self.strategies = strategies\n",
    "        self.state = state\n",
    "        self.gameplay = gameplay\n",
    "\n",
    "\n",
    "    def processGame(self,G):\n",
    "        for i in range(0,len(G)):\n",
    "            X = G[i]\n",
    "            if X[0] == self.name:\n",
    "                for j in range(1,len(X)):\n",
    "                    Branch = X[j]\n",
    "                    Alternative = list(Branch)\n",
    "                    del Alternative[len(Alternative) - 1]\n",
    "                    self.strategySpace = self.strategySpace + [tuple(Alternative)]\n",
    "                    self.payoffs = self.payoffs + [Branch[len(Branch) - 1]]\n",
    "        \n",
    "    def evaluate(self):\n",
    "        X = []\n",
    "        for i in range(0,len(self.strategySpace)):            \n",
    "            Alternative1 = self.strategySpace[i]\n",
    "            for j in range(0,len(self.strategySpace)):\n",
    "                Alternative2 = self.strategySpace[j]\n",
    "                if Alternative1 != Alternative2:\n",
    "                    if len(Alternative1) == len(Alternative2):\n",
    "                        Compare = 0\n",
    "                        for k in range(0,len(Alternative1) - 1):\n",
    "                            if Alternative1[k] == Alternative2[k]:\n",
    "                                Compare = Compare + 0\n",
    "                            else:\n",
    "                                Compare = Compare + 1\n",
    "                        if Compare == 0:\n",
    "                            PayoffCompare = [self.payoffs[i],self.payoffs[j]]\n",
    "                            M = max(PayoffCompare)\n",
    "                            if self.payoffs[i] == M:\n",
    "                                self.choice = Alternative1\n",
    "                                X = X + [self.choice]\n",
    "                            else:\n",
    "                                self.suboptimal = self.suboptimal + [Alternative1]\n",
    "                            if self.payoffs[j] == M:\n",
    "                                self.choice = Alternative2\n",
    "                                X = X + [self.choice]\n",
    "                            else:\n",
    "                                self.suboptimal = self.suboptimal + [Alternative2]\n",
    "            \n",
    "        X = set(X)\n",
    "        self.suboptimal = set(self.suboptimal)\n",
    "        self.strategies = list(X - self.suboptimal)\n",
    "        print (\"\\nStrategies selected by \", self.name,\":\")\n",
    "        print (self.strategies)\n",
    "        for l in range(0,len(self.strategies)):\n",
    "            strategy = self.strategies[l]\n",
    "            for m in range(0,len(strategy)):\n",
    "                O = self.order[m]\n",
    "                self.state[O] = strategy[m]\n",
    "            self.gameplay = self.gameplay + [tuple(self.state)]"
   ]
  },
  {
   "cell_type": "code",
   "execution_count": 5,
   "metadata": {
    "collapsed": true
   },
   "outputs": [],
   "source": [
    "#defining game class\n",
    "class game:\n",
    "    def __init__(self,players,structure,optimal):\n",
    "        self.players = players\n",
    "        self.structure = structure\n",
    "        self.optimal = optimal\n",
    "\n",
    "    def Nash(self,GP):\n",
    "        Y = set(GP[0])\n",
    "        for i in range(0,len(GP)):\n",
    "            X = set(GP[i])\n",
    "            Y = Y & X\n",
    "        self.optimal = list(Y)\n",
    "        if len(self.optimal) != 0:\n",
    "          print (\"\\nThe pure strategies Nash equilibria are:\")\n",
    "          for k in range(0,len(self.optimal)):\n",
    "              print (self.optimal[k])\n",
    "        else:\n",
    "            print (\"\\nThis game has no pure strategies Nash equilibria!\")"
   ]
  },
  {
   "cell_type": "code",
   "execution_count": 6,
   "metadata": {
    "collapsed": false
   },
   "outputs": [
    {
     "name": "stdout",
     "output_type": "stream",
     "text": [
      "\n",
      "Strategies selected by  A :\n",
      "[('C', 'D'), ('D', 'D')]\n",
      "\n",
      "Strategies selected by  B :\n",
      "[('C', 'D'), ('D', 'D')]\n",
      "\n",
      "The pure strategies Nash equilibria are:\n",
      "('D', 'D')\n"
     ]
    }
   ],
   "source": [
    "#implementing 2 person prisoners dilemma game\n",
    "# quick look up: https://en.wikipedia.org/wiki/Prisoner%27s_dilemma\n",
    "GameA = ['A', # Player A\n",
    "         ('C','C',3), # When B cooperates: if A cooperates, A receives 3 units of political gains\n",
    "         ('C','D',5), # When B cooperates: if A defects, A receives 5 units of political gains\n",
    "         ('D','C',0), # When B defects: if A cooperates, A receives 0 units of political gains\n",
    "         ('D','D',1)] # When B defects: if A defects, A receives 1 unit of political gains\n",
    "GameB = ['B', # Player B\n",
    "         ('C','C',3), # When A cooperates: if B cooperates, B receives 3 units of political gains\n",
    "         ('C','D',5), # When A cooperates: if B defects, B receives 5 units of political gains\n",
    "         ('D','C',0), # When A defects: if B cooperates, B receives 0 units of political gains\n",
    "         ('D','D',1)] # When A defects: if B defects, B receives 1 unit of political gains\n",
    "\n",
    "#game(players,structure,plays,optimal)\n",
    "Game = game(('A','B'),[GameA,GameB],None)\n",
    "\n",
    "\n",
    "#player(self,name,order,strategySpace,payoffs,choice,suboptimal,strategies,state,gameplay):\n",
    "PlayerA = player('A',(1,0), [], [], None, [], None, [0,0], [])\n",
    "PlayerB = player('B',(0,1), [], [], None, [], None, [0,0], [])\n",
    "\n",
    "\n",
    "Players = [PlayerA, PlayerB]\n",
    "\n",
    "for i in range(0,len(Players)):\n",
    "    Players[i].processGame(Game.structure)\n",
    "    Players[i].evaluate()\n",
    "\n",
    "GP = []\n",
    "\n",
    "for i in range(0,len(Players)):\n",
    "    X = Players[i].gameplay\n",
    "    GP = GP + [X]\n",
    "\n",
    "Game.Nash(GP)"
   ]
  },
  {
   "cell_type": "code",
   "execution_count": null,
   "metadata": {
    "collapsed": true
   },
   "outputs": [],
   "source": []
  }
 ],
 "metadata": {
  "kernelspec": {
   "display_name": "Python 3",
   "language": "python",
   "name": "python3"
  },
  "language_info": {
   "codemirror_mode": {
    "name": "ipython",
    "version": 3
   },
   "file_extension": ".py",
   "mimetype": "text/x-python",
   "name": "python",
   "nbconvert_exporter": "python",
   "pygments_lexer": "ipython3",
   "version": "3.6.0"
  }
 },
 "nbformat": 4,
 "nbformat_minor": 2
}
